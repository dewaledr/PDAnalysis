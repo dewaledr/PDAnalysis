{
 "cells": [
  {
   "cell_type": "markdown",
   "metadata": {},
   "source": [
    "#  numpy.random Package Investigation¶\n",
    "### This is a Solution to the first assessment on Programming for Data Analysis¶\n",
    "#### Author: Francis Adepoju (G00364694)¶ using my github account dewaledr\n",
    "#### Start Date: October 12, 2018\n",
    "### Tasks in this assignment:\n",
    "1. Explain the overall purpose of the package.\n",
    "2. Explain the use of the “Simple random data” and “Permutations” functions.\n",
    "3. Explain the use and purpose of at least five “Distributions” functions.\n",
    "4. Explain the use of seeds in generating pseudorandom numbers."
   ]
  },
  {
   "cell_type": "markdown",
   "metadata": {},
   "source": [
    "##### NumPy is a Linear Algebra Library for Python, the reason it is so important for Data Science with Python is that almost all of the libraries in the PyData Ecosystem rely on NumPy as one of their main building blocks. Numpy is noted to be incredibly fast, as it has bindings to C libraries. \n",
    "##### Why you would want to use numpy arrays instead of lists?\n",
    "-  NumPy's arrays are more compact than Python lists -- a list of lists as  you describe, in Python, would take at least 20 MB or so, while a NumPy 3D array with single-precision floats in the cells would fit in 4 MB. Access in reading and writing items is also faster with NumPy [1].\n",
    "\n",
    "##### Installation Instructions:¶\n",
    "- It is highly recommended you install Python using the Anaconda distribution to make sure all underlying dependencies (such as Linear Algebra libraries) all sync up. It can also be installed onto existing suystem with: conda install numpy\n",
    "\n",
    "###### Once you've installed NumPy you can import it as a library:\n",
    "###### Import numpy as np\n",
    "- Numpy has many built-in functions and capabilities: vectors, arrays, matrices, number generation, and many more...\n"
   ]
  },
  {
   "cell_type": "code",
   "execution_count": null,
   "metadata": {},
   "outputs": [],
   "source": []
  }
 ],
 "metadata": {
  "kernelspec": {
   "display_name": "Python 3",
   "language": "python",
   "name": "python3"
  },
  "language_info": {
   "codemirror_mode": {
    "name": "ipython",
    "version": 3
   },
   "file_extension": ".py",
   "mimetype": "text/x-python",
   "name": "python",
   "nbconvert_exporter": "python",
   "pygments_lexer": "ipython3",
   "version": "3.6.5"
  }
 },
 "nbformat": 4,
 "nbformat_minor": 2
}
