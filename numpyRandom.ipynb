{
 "cells": [
  {
   "cell_type": "markdown",
   "metadata": {},
   "source": [
    "#  numpy.random Package Investigation¶\n",
    "### This is a Solution to the first assessment on Programming for Data Analysis¶\n",
    "### Author: Francis Adepoju (G00364694)¶ using my github account dewaledr\n",
    "#### Start Date: October 12, 2018\n",
    "### Tasks in this assignment:\n",
    "1. Explain the overall purpose of the package.\n",
    "2. Explain the use of the “Simple random data” and “Permutations” functions.\n",
    "3. Explain the use and purpose of at least five “Distributions” functions.\n",
    "4. Explain the use of seeds in generating pseudorandom numbers."
   ]
  },
  {
   "cell_type": "markdown",
   "metadata": {},
   "source": [
    "##### Installation Instructions:¶\n",
    "- It is highly recommended you install Python using the Anaconda distribution to make sure all underlying dependencies (such as Linear Algebra libraries) all sync up. It can also be installed onto existing suystem with: conda install numpy\n",
    "\n",
    "###### Once you've installed NumPy you can import it as a library:  Import numpy as np\n"
   ]
  },
  {
   "cell_type": "markdown",
   "metadata": {},
   "source": [
    "# 1. NumPy¶\n",
    "NumPy (or Numpy) is a Linear Algebra Library for Python. Numpy is incredibly fast, as it has bindings to C libraries. NumPy's arrays are more compact than Python lists -- a list of lists as you describe, in Python, would take at least 20 MB or so, while a NumPy 3D array with single-precision floats in the cells would fit in 4 MB. Access in reading and writing items is also faster with NumPy [1].\n",
    "NumPy is the fundamental package for scientific computing with Python. It contains among other things: a powerful N-dimensional array object sophisticated (broadcasting) functions tools for integrating C/C++ and Fortran code useful linear algebra, Fourier transform, and random number capabilities Besides its obvious scientific uses, NumPy can also be used as an efficient multi-dimensional container of generic data. Arbitrary data-types can also be defined.\n",
    "[2].\n",
    "\n",
    "Broadcasting is the term used to describe the implicit element-by-element behavior of operations; generally speaking, in NumPy all operations, not just arithmetic operations, but logical, bit-wise, functional, etc., behave in this implicit element-by-element fashion, i.e., they broadcast. \n",
    "For example  a and b could be multidimensional arrays of the same shape, or a scalar and an array, or even two arrays of with different shapes, provided that the smaller array is “expandable” to the shape of the larger in such a way that the resulting broadcast is unambiguous. For detailed “rules” of broadcasting see numpy.doc.broadcasting.\n",
    "NumPy fully supports an object-oriented approach, starting, once again, with ndarray. For example, ndarray is a class, possessing numerous methods and attributes. Many of its methods mirror functions in the outer-most NumPy namespace, giving the programmer complete freedom to code in whichever paradigm she prefers and/or which seems most appropriate to the task at hand. \n",
    "[3]. \n",
    "\n",
    "#### Numpy has many built-in functions and capabilities. In this notebook, I will focus on some of the most important aspects of Numpy: vectors, arrays, matrices, and number generation.\n",
    "At the core of the NumPy package, is the ndarray object. This encapsulates n-dimensional arrays of homogeneous data types, with many operations being performed in compiled code for performance. There are several important differences between NumPy arrays and the standard Python sequences:\n",
    "1. NumPy arrays have a fixed size at creation, unlike Python lists (which can grow dynamically). Changing the size of an ndarray will create a new array and delete the original.\n",
    "2. The elements in a NumPy array are all required to be of the same data type, and thus will be the same size in memory. The exception: one can have arrays of objects, thereby allowing for arrays of different sized elements.\n",
    "3. NumPy arrays facilitate advanced mathematical and other types of operations on large numbers of data. Typically, such operations are executed more efficiently and with less code than is possible using Python’s built-in sequences.\n",
    "4. A growing plethora of scientific and mathematical Python-based packages are using NumPy arrays; though these typically support Python-sequence input, they convert such input to NumPy arrays prior to processing, and they often output NumPy arrays. In other words, in order to efficiently use much (perhaps even most) of today’s scientific/mathematical Python-based software, just knowing how to use Python’s built-in sequence types is insufficient - one also needs to know how to use NumPy arrays.\n"
   ]
  },
  {
   "cell_type": "markdown",
   "metadata": {},
   "source": [
    "### Numpy Arrays¶\n",
    "Numpy arrays essentially come in two flavors: vectors and matrices. Vectors are strictly 1-d arrays and matrices are 2-d (note: a matrix can still have only one row or one column).\n",
    "#### Creating NumPy Arrays¶\n",
    "1.\tFrom a Python List: We can create an array by directly converting a list or list of lists:"
   ]
  },
  {
   "cell_type": "code",
   "execution_count": 1,
   "metadata": {},
   "outputs": [],
   "source": [
    "import numpy as np"
   ]
  },
  {
   "cell_type": "code",
   "execution_count": 2,
   "metadata": {},
   "outputs": [
    {
     "data": {
      "text/plain": [
       "[1, 2, 3]"
      ]
     },
     "execution_count": 2,
     "metadata": {},
     "output_type": "execute_result"
    }
   ],
   "source": [
    "my_list = [1,2,3]\n",
    "my_list"
   ]
  },
  {
   "cell_type": "markdown",
   "metadata": {},
   "source": [
    "2.\tBy casting a list to numpy array"
   ]
  },
  {
   "cell_type": "code",
   "execution_count": 3,
   "metadata": {},
   "outputs": [
    {
     "data": {
      "text/plain": [
       "array([1, 2, 3])"
      ]
     },
     "execution_count": 3,
     "metadata": {},
     "output_type": "execute_result"
    }
   ],
   "source": [
    "np.array(my_list)"
   ]
  },
  {
   "cell_type": "code",
   "execution_count": 4,
   "metadata": {},
   "outputs": [
    {
     "data": {
      "text/plain": [
       "array([[3, 2, 1],\n",
       "       [4, 6, 5],\n",
       "       [7, 8, 9]])"
      ]
     },
     "execution_count": 4,
     "metadata": {},
     "output_type": "execute_result"
    }
   ],
   "source": [
    "my_matrix = [[3,2,1],[4,6,5],[7,8,9]]\n",
    "np.array(my_matrix)"
   ]
  },
  {
   "cell_type": "markdown",
   "metadata": {},
   "source": [
    "### There are lots of built-in ways to generate Arrays\n",
    "1. arange: Return evenly spaced values within a given interval.\n",
    "2. zeros and \n",
    "3. ones: Generate arrays of zeros or ones\n",
    "4. linspace: Return evenly spaced numbers over a specified interval.\n",
    "5. eye: Creates an identity matrix. Usually a square matrix useful in Linear algebra"
   ]
  },
  {
   "cell_type": "code",
   "execution_count": 5,
   "metadata": {},
   "outputs": [
    {
     "data": {
      "text/plain": [
       "array([0, 1, 2, 3, 4, 5, 6, 7, 8, 9])"
      ]
     },
     "execution_count": 5,
     "metadata": {},
     "output_type": "execute_result"
    }
   ],
   "source": [
    "#arange - Return evenly spaced values within a given interval 1 default when not specified.\n",
    "np.arange(0,10)"
   ]
  },
  {
   "cell_type": "code",
   "execution_count": 6,
   "metadata": {},
   "outputs": [
    {
     "data": {
      "text/plain": [
       "array([ 0,  2,  4,  6,  8, 10])"
      ]
     },
     "execution_count": 6,
     "metadata": {},
     "output_type": "execute_result"
    }
   ],
   "source": [
    "np.arange(0,11,2) #Return evenly spaced values within a given interval, 2 specified."
   ]
  },
  {
   "cell_type": "code",
   "execution_count": 7,
   "metadata": {},
   "outputs": [
    {
     "data": {
      "text/plain": [
       "array([0., 0., 0.])"
      ]
     },
     "execution_count": 7,
     "metadata": {},
     "output_type": "execute_result"
    }
   ],
   "source": [
    "#2. zeros - Generate arrays of zeros, shape given\n",
    "np.zeros(3)"
   ]
  },
  {
   "cell_type": "code",
   "execution_count": 8,
   "metadata": {
    "scrolled": true
   },
   "outputs": [
    {
     "data": {
      "text/plain": [
       "array([[0., 0., 0., 0., 0.],\n",
       "       [0., 0., 0., 0., 0.],\n",
       "       [0., 0., 0., 0., 0.],\n",
       "       [0., 0., 0., 0., 0.],\n",
       "       [0., 0., 0., 0., 0.]])"
      ]
     },
     "execution_count": 8,
     "metadata": {},
     "output_type": "execute_result"
    }
   ],
   "source": [
    "np.zeros((5,5)) #Shape given 5x5"
   ]
  },
  {
   "cell_type": "code",
   "execution_count": 9,
   "metadata": {},
   "outputs": [
    {
     "data": {
      "text/plain": [
       "array([1., 1., 1.])"
      ]
     },
     "execution_count": 9,
     "metadata": {},
     "output_type": "execute_result"
    }
   ],
   "source": [
    "np.ones(3)"
   ]
  },
  {
   "cell_type": "code",
   "execution_count": 10,
   "metadata": {},
   "outputs": [
    {
     "data": {
      "text/plain": [
       "array([[1., 1., 1.],\n",
       "       [1., 1., 1.],\n",
       "       [1., 1., 1.]])"
      ]
     },
     "execution_count": 10,
     "metadata": {},
     "output_type": "execute_result"
    }
   ],
   "source": [
    "np.ones((3,3))"
   ]
  },
  {
   "cell_type": "code",
   "execution_count": 11,
   "metadata": {},
   "outputs": [
    {
     "data": {
      "text/plain": [
       "array([ 0.,  5., 10.])"
      ]
     },
     "execution_count": 11,
     "metadata": {},
     "output_type": "execute_result"
    }
   ],
   "source": [
    "#4. linspace: Return evenly spaced numbers over a specified interval.\n",
    "np.linspace(0,10,3)"
   ]
  },
  {
   "cell_type": "code",
   "execution_count": 12,
   "metadata": {},
   "outputs": [
    {
     "data": {
      "text/plain": [
       "array([ 0.        ,  0.20408163,  0.40816327,  0.6122449 ,  0.81632653,\n",
       "        1.02040816,  1.2244898 ,  1.42857143,  1.63265306,  1.83673469,\n",
       "        2.04081633,  2.24489796,  2.44897959,  2.65306122,  2.85714286,\n",
       "        3.06122449,  3.26530612,  3.46938776,  3.67346939,  3.87755102,\n",
       "        4.08163265,  4.28571429,  4.48979592,  4.69387755,  4.89795918,\n",
       "        5.10204082,  5.30612245,  5.51020408,  5.71428571,  5.91836735,\n",
       "        6.12244898,  6.32653061,  6.53061224,  6.73469388,  6.93877551,\n",
       "        7.14285714,  7.34693878,  7.55102041,  7.75510204,  7.95918367,\n",
       "        8.16326531,  8.36734694,  8.57142857,  8.7755102 ,  8.97959184,\n",
       "        9.18367347,  9.3877551 ,  9.59183673,  9.79591837, 10.        ])"
      ]
     },
     "execution_count": 12,
     "metadata": {},
     "output_type": "execute_result"
    }
   ],
   "source": [
    "np.linspace(0,10,50) #Returns 50 1D array of evenly spaced numbers from  0 - 10"
   ]
  },
  {
   "cell_type": "code",
   "execution_count": 13,
   "metadata": {},
   "outputs": [
    {
     "data": {
      "text/plain": [
       "array([[1., 0., 0., 0.],\n",
       "       [0., 1., 0., 0.],\n",
       "       [0., 0., 1., 0.],\n",
       "       [0., 0., 0., 1.]])"
      ]
     },
     "execution_count": 13,
     "metadata": {},
     "output_type": "execute_result"
    }
   ],
   "source": [
    "#5. eye: Creates an identity matrix. Usually a square matrix useful in Linear algebra\n",
    "np.eye(4)"
   ]
  },
  {
   "cell_type": "markdown",
   "metadata": {},
   "source": [
    "### Array Attributes and Methods\n",
    "1. reshape - One of the most useful methods that could be used on an array is the reshape method. Reshape will return an array containing the same data type in new shape.\n",
    "2. max - These are all useful methods for finding max or min values or to find their index locations using argmin or argmax\n",
    "3. min\n",
    "4. argmax\n",
    "5. argmin\n",
    "6. shape - Shape is an attribute that arrays have (not a method):\n",
    "7. dtype - We can also grab the data type of the object in the array:"
   ]
  },
  {
   "cell_type": "code",
   "execution_count": 14,
   "metadata": {},
   "outputs": [
    {
     "data": {
      "text/plain": [
       "array([ 0,  1,  2,  3,  4,  5,  6,  7,  8,  9, 10, 11, 12, 13, 14, 15, 16,\n",
       "       17, 18, 19, 20, 21, 22, 23, 24])"
      ]
     },
     "execution_count": 14,
     "metadata": {},
     "output_type": "execute_result"
    }
   ],
   "source": [
    "arr = np.arange(25) # Return a 1D array values between 0 and 24\n",
    "arr"
   ]
  },
  {
   "cell_type": "code",
   "execution_count": 15,
   "metadata": {},
   "outputs": [
    {
     "data": {
      "text/plain": [
       "array([35, 33, 31, 32,  9, 33, 29,  9, 11,  7])"
      ]
     },
     "execution_count": 15,
     "metadata": {},
     "output_type": "execute_result"
    }
   ],
   "source": [
    "ranarr = np.random.randint(0,50,10)  #Return an array of 10 random integers between 0 and 50\n",
    "ranarr"
   ]
  },
  {
   "cell_type": "code",
   "execution_count": 16,
   "metadata": {},
   "outputs": [
    {
     "data": {
      "text/plain": [
       "array([[ 0,  1,  2,  3,  4],\n",
       "       [ 5,  6,  7,  8,  9],\n",
       "       [10, 11, 12, 13, 14],\n",
       "       [15, 16, 17, 18, 19],\n",
       "       [20, 21, 22, 23, 24]])"
      ]
     },
     "execution_count": 16,
     "metadata": {},
     "output_type": "execute_result"
    }
   ],
   "source": [
    "# Will return a 5x5 2D array from the original array (arr). \n",
    "# Note that arr must have 25 members (5x5), else reshape will fail.\n",
    "arr.reshape(5,5) "
   ]
  },
  {
   "cell_type": "code",
   "execution_count": 17,
   "metadata": {},
   "outputs": [
    {
     "data": {
      "text/plain": [
       "35"
      ]
     },
     "execution_count": 17,
     "metadata": {},
     "output_type": "execute_result"
    }
   ],
   "source": [
    "ranarr.max() #return the maximum value in ranarr"
   ]
  },
  {
   "cell_type": "code",
   "execution_count": 18,
   "metadata": {},
   "outputs": [
    {
     "data": {
      "text/plain": [
       "7"
      ]
     },
     "execution_count": 18,
     "metadata": {},
     "output_type": "execute_result"
    }
   ],
   "source": [
    "ranarr.min() #return the minimum value in ranarr"
   ]
  },
  {
   "cell_type": "code",
   "execution_count": 19,
   "metadata": {},
   "outputs": [
    {
     "data": {
      "text/plain": [
       "9"
      ]
     },
     "execution_count": 19,
     "metadata": {},
     "output_type": "execute_result"
    }
   ],
   "source": [
    "ranarr.argmin() #return the index location of min value in ranarr"
   ]
  },
  {
   "cell_type": "code",
   "execution_count": 20,
   "metadata": {},
   "outputs": [
    {
     "data": {
      "text/plain": [
       "0"
      ]
     },
     "execution_count": 20,
     "metadata": {},
     "output_type": "execute_result"
    }
   ],
   "source": [
    "ranarr.argmax() # return the index location of the max value in ranarr"
   ]
  },
  {
   "cell_type": "code",
   "execution_count": 21,
   "metadata": {},
   "outputs": [
    {
     "data": {
      "text/plain": [
       "array([[ 0,  1,  2,  3,  4],\n",
       "       [ 5,  6,  7,  8,  9],\n",
       "       [10, 11, 12, 13, 14],\n",
       "       [15, 16, 17, 18, 19],\n",
       "       [20, 21, 22, 23, 24]])"
      ]
     },
     "execution_count": 21,
     "metadata": {},
     "output_type": "execute_result"
    }
   ],
   "source": [
    "# Will return a 5x5 2D array from the original array (arr). \n",
    "# Note that arr must have 25 members (i.e. rows of 5 x columns of 5 in this case), else reshape will fail.\n",
    "arr.reshape(5,5)"
   ]
  },
  {
   "cell_type": "code",
   "execution_count": 22,
   "metadata": {},
   "outputs": [
    {
     "name": "stdout",
     "output_type": "stream",
     "text": [
      "The code shown next will generate an error if run because the shape size does not match the array size...\n"
     ]
    }
   ],
   "source": [
    "print('The code shown next will generate an error if run because the shape size does not match the array size...')"
   ]
  },
  {
   "cell_type": "code",
   "execution_count": 23,
   "metadata": {},
   "outputs": [],
   "source": [
    "# arr.reshape(5,3) #--- This will FAIL"
   ]
  },
  {
   "cell_type": "code",
   "execution_count": 24,
   "metadata": {},
   "outputs": [
    {
     "data": {
      "text/plain": [
       "(25,)"
      ]
     },
     "execution_count": 24,
     "metadata": {},
     "output_type": "execute_result"
    }
   ],
   "source": [
    "#Shape: Shape is an attribute that arrays have (not a method):\n",
    "# Vector: \n",
    "arr.shape\n",
    "# Notice here I get 25 comma and that's indicating that arr array was just a one dimensional vector."
   ]
  },
  {
   "cell_type": "code",
   "execution_count": 25,
   "metadata": {},
   "outputs": [
    {
     "data": {
      "text/plain": [
       "array([[ 0,  1,  2,  3,  4,  5,  6,  7,  8,  9, 10, 11, 12, 13, 14, 15,\n",
       "        16, 17, 18, 19, 20, 21, 22, 23, 24]])"
      ]
     },
     "execution_count": 25,
     "metadata": {},
     "output_type": "execute_result"
    }
   ],
   "source": [
    "# Notice the two sets of brackets\n",
    "arr.reshape(1,25)"
   ]
  },
  {
   "cell_type": "code",
   "execution_count": 26,
   "metadata": {},
   "outputs": [
    {
     "data": {
      "text/plain": [
       "(1, 25)"
      ]
     },
     "execution_count": 26,
     "metadata": {},
     "output_type": "execute_result"
    }
   ],
   "source": [
    "arr.reshape(1,25).shape   # (1, 25) returns a 1x25 array"
   ]
  },
  {
   "cell_type": "code",
   "execution_count": 27,
   "metadata": {},
   "outputs": [
    {
     "data": {
      "text/plain": [
       "(25, 1)"
      ]
     },
     "execution_count": 27,
     "metadata": {},
     "output_type": "execute_result"
    }
   ],
   "source": [
    "# arr.reshape(25,1)\n",
    "arr.reshape(25,1).shape   # (25, 1) returns a - 25x1 array"
   ]
  },
  {
   "cell_type": "code",
   "execution_count": 28,
   "metadata": {},
   "outputs": [
    {
     "data": {
      "text/plain": [
       "(5, 5)"
      ]
     },
     "execution_count": 28,
     "metadata": {},
     "output_type": "execute_result"
    }
   ],
   "source": [
    "#arr.reshape(5,5)\n",
    "arr.reshape(5,5).shape   # (5, 5) returns a - 5x5 array"
   ]
  },
  {
   "cell_type": "code",
   "execution_count": 29,
   "metadata": {},
   "outputs": [
    {
     "data": {
      "text/plain": [
       "dtype('int32')"
      ]
     },
     "execution_count": 29,
     "metadata": {},
     "output_type": "execute_result"
    }
   ],
   "source": [
    "# You can also grab the data type of the object in the array:\n",
    "arr.dtype"
   ]
  },
  {
   "cell_type": "markdown",
   "metadata": {},
   "source": [
    "## ... Please NOTE:\n",
    "###### Rather than saying import   \n",
    "###### =====> numpy.random as np \n",
    "#### We can use a specific import option as shown here, i.e.:\n",
    "######  =====> from numpy.random import rand, randint, randn\n",
    "- So, you may just use for example, randint(4,50) rather than the longer np.random.randint(4,50).[4]\n"
   ]
  },
  {
   "cell_type": "markdown",
   "metadata": {},
   "source": [
    "# 2.    Simple random data\n",
    "## 2.1.\tRandom\n",
    "Numpy also has lots of ways to create random number arrays, for example:\n",
    "1. rand: numpy.random.rand(d0, d1, ..., dn)\n",
    "2. numpy.random.randn(d0, d1, ..., dn)\n",
    "3. numpy.random.randint(low, high=None, size=None, dtype='l')"
   ]
  },
  {
   "cell_type": "markdown",
   "metadata": {},
   "source": [
    "### 1: rand(d0, d1, ..., dn)\n",
    "Create an array of the given shape and populate it with random samples from a uniform distribution over \"0, 1\" Mathematically, this convention [ [0, 1) ]means first element (0) is inclusive while the second element (1) is not.\n",
    "\n",
    "##### NOTE: np.random + TAB shows the existing methods for np.random"
   ]
  },
  {
   "cell_type": "code",
   "execution_count": 30,
   "metadata": {},
   "outputs": [
    {
     "data": {
      "text/plain": [
       "array([0.55270491, 0.6338098 ])"
      ]
     },
     "execution_count": 30,
     "metadata": {},
     "output_type": "execute_result"
    }
   ],
   "source": [
    "# np.random.rand(2) will create an array of shape 2 and populate the array with a random sample \n",
    "# from a uniform distribution over 0 to 1\n",
    "np.random.rand(2)"
   ]
  },
  {
   "cell_type": "code",
   "execution_count": 31,
   "metadata": {},
   "outputs": [
    {
     "data": {
      "text/plain": [
       "array([0.09376205, 0.74765936, 0.7814434 , 0.46935257, 0.65659321])"
      ]
     },
     "execution_count": 31,
     "metadata": {},
     "output_type": "execute_result"
    }
   ],
   "source": [
    "# And that means if I want just five one dimensional array of random numbers uniformly distributed from 0 to 1 \n",
    "# I can pass in a single digit and I'll get back that much one-dimensional array, i.e 5 as shown next \n",
    "np.random.rand(5)"
   ]
  },
  {
   "cell_type": "code",
   "execution_count": 32,
   "metadata": {},
   "outputs": [
    {
     "data": {
      "text/plain": [
       "array([[0.29319124, 0.47095157, 0.07063689, 0.89825269],\n",
       "       [0.34388165, 0.71749895, 0.6892733 , 0.85225744],\n",
       "       [0.59422817, 0.38240345, 0.39693315, 0.69227869]])"
      ]
     },
     "execution_count": 32,
     "metadata": {},
     "output_type": "execute_result"
    }
   ],
   "source": [
    "# And if I want a 3 by 4 matrix of random numbers I just pass and 3,4 \n",
    "np.random.rand(3,4)"
   ]
  },
  {
   "cell_type": "markdown",
   "metadata": {},
   "source": [
    "### 2: randn(d0, d1, …, dn).\n",
    "If we want to return a sample or many samples from the standard normal distribution or a Gaussian distribution instead of using rand we can use randn"
   ]
  },
  {
   "cell_type": "code",
   "execution_count": 33,
   "metadata": {},
   "outputs": [
    {
     "data": {
      "text/plain": [
       "array([ 0.87027225, -1.30527379, -1.32398377,  1.36333088, -1.86827203,\n",
       "        0.6923016 , -0.46335549,  0.12530746, -0.53811355])"
      ]
     },
     "execution_count": 33,
     "metadata": {},
     "output_type": "execute_result"
    }
   ],
   "source": [
    "# Return a sample (or samples) from the \"standard normal\" distribution. Unlike rand which is uniform:\n",
    "# and this will return numbers not from a uniform distribution from 0 to 1 but instead from a \n",
    "# standard normal distribution center around zero. \n",
    "# And that means I can go ahead and pass in 9 and I get nine random numbers from a standard normal distribution.\n",
    "np.random.randn(9)"
   ]
  },
  {
   "cell_type": "code",
   "execution_count": 34,
   "metadata": {},
   "outputs": [
    {
     "data": {
      "text/plain": [
       "array([[ 0.95249667, -0.5200068 ,  0.5577971 , -0.12011675,  2.00196686],\n",
       "       [ 1.15739651, -0.12223477,  0.18489731,  0.34452757,  1.64214811],\n",
       "       [ 1.65949917,  1.35427068, -1.02345064, -1.01509394,  0.08823027],\n",
       "       [ 0.02776851,  0.4370005 ,  1.72567865, -0.72473825,  0.3562614 ]])"
      ]
     },
     "execution_count": 34,
     "metadata": {},
     "output_type": "execute_result"
    }
   ],
   "source": [
    "\n",
    "# Again if I want this to be two dimensional I can just pass in two dimensions. \n",
    "# So for a four by five I'll pass in 4,5.\n",
    "# Note: we’re not passing a tuple here separate argument separated by a comma. \n",
    "# And we can see by the set of two brackets is a two dimensional matrix as an output.\n",
    "np.random.randn(4,5)"
   ]
  },
  {
   "cell_type": "code",
   "execution_count": 35,
   "metadata": {},
   "outputs": [],
   "source": [
    "# A plot of a normal distribution curve or a Gaussian distribution curve is shown next: \n",
    "# REF: https://stackoverflow.com/questions/14873203/plotting-of-1-dimensional-gaussian-distribution-function"
   ]
  },
  {
   "cell_type": "code",
   "execution_count": 36,
   "metadata": {},
   "outputs": [
    {
     "data": {
      "text/plain": [
       "<Figure size 640x480 with 1 Axes>"
      ]
     },
     "metadata": {},
     "output_type": "display_data"
    }
   ],
   "source": [
    "from matplotlib import pyplot as mp\n",
    "# import numpy as np\n",
    "\n",
    "def gaussian(x, mu, sig):\n",
    "    return np.exp(-np.power(x - mu, 2.) / (2 * np.power(sig, 2.)))\n",
    "\n",
    "for mu, sig in [(0, 1)]:\n",
    "    mp.plot(gaussian(np.linspace(-5, 5, 100), mu, sig))\n",
    "\n",
    "mp.show()"
   ]
  },
  {
   "cell_type": "markdown",
   "metadata": {},
   "source": [
    "### 3: randint(low, high=None, size=None, dtype='l')\n",
    "randint(low[, high, size, dtype]) Returns random integers from low (inclusive) to high (exclusive).\n",
    "- np.random.randint(SHIFT + TAB … will show the description of expected arguments…\n"
   ]
  },
  {
   "cell_type": "code",
   "execution_count": 37,
   "metadata": {},
   "outputs": [
    {
     "data": {
      "text/plain": [
       "64"
      ]
     },
     "execution_count": 37,
     "metadata": {},
     "output_type": "execute_result"
    }
   ],
   "source": [
    "# This will produce just one random integer between 1 and 100\n",
    "np.random.randint(1,100) "
   ]
  },
  {
   "cell_type": "code",
   "execution_count": 38,
   "metadata": {},
   "outputs": [
    {
     "data": {
      "text/plain": [
       "array([ 7, 82, 97, 99, 35, 98, 47, 96, 65, 36])"
      ]
     },
     "execution_count": 38,
     "metadata": {},
     "output_type": "execute_result"
    }
   ],
   "source": [
    "# To return a particular number of random integers you can pass them in as a third argument. \n",
    "# So to return 10 random integers from 1 to 100. But not including 100.\n",
    "# I can just pass 10 and there are 10 random integers inclusive on the low and exclusive on the high end.\n",
    "np.random.randint(1,100,10)"
   ]
  },
  {
   "cell_type": "markdown",
   "metadata": {},
   "source": [
    "## 2.2.\tPermutations\n",
    "A permutation of a set of objects is an arrangement of the objects in a certain order.\n",
    "For example:\n",
    "\n",
    "The possible permutations of letters a, b and c is: abc/ acb/ bac/ bca/ cab/ cba/\n",
    "\n",
    "Numpy also has two functions to handle elements under permutations:\n",
    "1. numpy.random.shuffle(x)\n",
    "2. numpy.random.permutation(x)"
   ]
  },
  {
   "cell_type": "markdown",
   "metadata": {},
   "source": [
    "### shuffle:"
   ]
  },
  {
   "cell_type": "code",
   "execution_count": 39,
   "metadata": {},
   "outputs": [
    {
     "data": {
      "text/plain": [
       "array([0, 1, 2, 3, 4, 5, 6, 7, 8, 9])"
      ]
     },
     "execution_count": 39,
     "metadata": {},
     "output_type": "execute_result"
    }
   ],
   "source": [
    "# numpy.random.shuffle(x) modify a sequence in-place by shuffling its contents.\n",
    "# This function only shuffles the array along the first axis of a multi-dimensional array. \n",
    "# The order of sub-arrays is changed but their contents remains the same.\n",
    "# Example:\n",
    "arr = np.arange(10)\n",
    "arr"
   ]
  },
  {
   "cell_type": "code",
   "execution_count": 40,
   "metadata": {},
   "outputs": [
    {
     "data": {
      "text/plain": [
       "array([8, 5, 9, 0, 6, 1, 4, 2, 7, 3])"
      ]
     },
     "execution_count": 40,
     "metadata": {},
     "output_type": "execute_result"
    }
   ],
   "source": [
    "# This array can be shuffled around as shown here\n",
    "np.random.shuffle(arr)\n",
    "arr"
   ]
  },
  {
   "cell_type": "code",
   "execution_count": 41,
   "metadata": {},
   "outputs": [
    {
     "data": {
      "text/plain": [
       "array([[0, 1, 2],\n",
       "       [3, 4, 5],\n",
       "       [6, 7, 8]])"
      ]
     },
     "execution_count": 41,
     "metadata": {},
     "output_type": "execute_result"
    }
   ],
   "source": [
    "# Create an array of 9 elements, then reshape it to a 3x3 matrix, then shuffle...\n",
    "arr = np.arange(9).reshape((3, 3))\n",
    "arr"
   ]
  },
  {
   "cell_type": "code",
   "execution_count": 42,
   "metadata": {},
   "outputs": [
    {
     "data": {
      "text/plain": [
       "array([[6, 7, 8],\n",
       "       [0, 1, 2],\n",
       "       [3, 4, 5]])"
      ]
     },
     "execution_count": 42,
     "metadata": {},
     "output_type": "execute_result"
    }
   ],
   "source": [
    "# after shuffling\n",
    "np.random.shuffle(arr)\n",
    "arr"
   ]
  },
  {
   "cell_type": "markdown",
   "metadata": {},
   "source": [
    "### permutation:"
   ]
  },
  {
   "cell_type": "code",
   "execution_count": 43,
   "metadata": {},
   "outputs": [
    {
     "data": {
      "text/plain": [
       "array([1, 9, 0, 8, 3, 7, 5, 4, 2, 6])"
      ]
     },
     "execution_count": 43,
     "metadata": {},
     "output_type": "execute_result"
    }
   ],
   "source": [
    "# numpy.random.permutation(x)¶\n",
    "# Randomly permute a sequence, or return a permuted range.\n",
    "# Example:\n",
    "np.random.permutation(10)"
   ]
  },
  {
   "cell_type": "code",
   "execution_count": 44,
   "metadata": {},
   "outputs": [
    {
     "data": {
      "text/plain": [
       "array([[0, 1, 2],\n",
       "       [6, 7, 8],\n",
       "       [3, 4, 5]])"
      ]
     },
     "execution_count": 44,
     "metadata": {},
     "output_type": "execute_result"
    }
   ],
   "source": [
    "# If x is a multi-dimensional array, it is only shuffled along its first index\n",
    "# Example:\n",
    "arr = np.arange(9).reshape((3, 3))\n",
    "np.random.permutation(arr)"
   ]
  },
  {
   "cell_type": "code",
   "execution_count": null,
   "metadata": {},
   "outputs": [],
   "source": []
  },
  {
   "cell_type": "markdown",
   "metadata": {},
   "source": [
    "# 3. Distributions\n",
    "##   Discrete Distributions: \n",
    "Discrete probability distributions are also called probability mass functions. Examples are:\n",
    "1.\tUniform Distribution\n",
    "2.\tBinomial Distribution\n",
    "3.\tPoisson Distribution\n",
    "\n",
    "## Continuous Distributions: \n",
    "Continuous probability distributions are also called probability density functions. Examples are:\n",
    "1.\tNormal Distribution\n",
    "2.\tExponential Distribution\n",
    "3.\tBeta Distribution\n"
   ]
  },
  {
   "cell_type": "markdown",
   "metadata": {},
   "source": [
    "### 3.1.\tuniform([low, high, size])"
   ]
  },
  {
   "cell_type": "code",
   "execution_count": 45,
   "metadata": {},
   "outputs": [
    {
     "data": {
      "text/plain": [
       "0.7716552704989191"
      ]
     },
     "execution_count": 45,
     "metadata": {},
     "output_type": "execute_result"
    }
   ],
   "source": [
    "# Draw samples from a uniform distribution.\n",
    "# Samples are uniformly distributed over the half-open interval [low, high) (includes low, but excludes high). \n",
    "# In other words, any value within the given interval is equally likely to be drawn by uniform.\n",
    "\n",
    "np.random.uniform(low=0.0, high=1.0, size=None)"
   ]
  },
  {
   "cell_type": "code",
   "execution_count": 46,
   "metadata": {},
   "outputs": [
    {
     "data": {
      "image/png": "[encoded data removed]",
      "text/plain": [
       "<Figure size 432x288 with 1 Axes>"
      ]
     },
     "metadata": {
      "needs_background": "light"
     },
     "output_type": "display_data"
    }
   ],
   "source": [
    "s = np.random.uniform(-1,0,1000)\n",
    "# Display the histogram of the samples, along with the probability density function:\n",
    "import matplotlib.pyplot as plt\n",
    "count, bins, ignored = plt.hist(s, 10, density=True)\n",
    "plt.plot(bins, np.ones_like(bins), linewidth=2, color='r')\n",
    "plt.show()\n"
   ]
  },
  {
   "cell_type": "markdown",
   "metadata": {},
   "source": [
    "### 3.2.\tbinomial(n, p, size=None)"
   ]
  },
  {
   "cell_type": "markdown",
   "metadata": {},
   "source": [
    "“Binomial” means there are two discrete, mutually exclusive outcomes of a trial. heads or tails/ on or off/ success or failure\n",
    "A Bernoulli Trial is a random experiment in which there are only two possible outcomes - success or failure\n",
    "A series of trials n will follow a binary distribution so long as:\n",
    "   a) the probability of success p is constant\n",
    "   b) trials are independent of one another"
   ]
  },
  {
   "cell_type": "code",
   "execution_count": 47,
   "metadata": {},
   "outputs": [],
   "source": [
    "# numpy.random.binomial(n, p, size=None)...Draw samples from a binomial distribution.\n",
    "# Samples are drawn from a binomial distribution with specified parameters, \n",
    "# n trials and p probability of success where n an integer >= 0 and p is in the interval [0,1]. \n",
    "# (n may be input as a float, but it is truncated to an integer in use)\n"
   ]
  },
  {
   "cell_type": "code",
   "execution_count": 48,
   "metadata": {},
   "outputs": [
    {
     "data": {
      "text/plain": [
       "array([ 4,  6,  7,  4,  6,  5,  7,  3,  5,  8,  6,  4,  2,  5,  6,  7,  3,\n",
       "        4,  3,  6,  6,  3,  8,  4,  5,  6,  6,  8,  4,  7,  5,  2,  6,  6,\n",
       "        7,  3,  4,  5,  6,  6,  4,  3,  3,  6,  2,  5,  5,  2,  4,  3,  7,\n",
       "        5,  1,  7,  6,  5,  2,  5,  6,  6,  4,  7,  5,  7,  4,  5,  1,  4,\n",
       "        5,  6,  7,  7,  6,  6,  4,  7,  6,  5,  4,  3,  4,  6,  3,  6,  5,\n",
       "        7,  5,  4,  7,  4,  7,  5,  6,  6,  7,  6,  5,  4,  5,  3,  3,  7,\n",
       "        6,  5,  4,  3,  5,  5,  4,  2,  3,  5,  6,  5,  5,  4,  7,  6,  3,\n",
       "        7,  4,  6,  3,  5,  4,  5,  3,  4,  3,  6,  4,  6,  6,  4,  4,  6,\n",
       "        6,  3,  7,  4,  5,  8,  6,  5,  3,  5,  2, 10,  7,  5,  4,  4,  1,\n",
       "        2,  8,  3,  6,  5,  9,  6,  4,  6,  4,  4,  7,  6,  4,  5,  5,  3,\n",
       "        5,  4,  6,  4,  3,  6,  9,  4,  6,  5,  6,  5,  5,  7,  5,  3,  5,\n",
       "        6,  3,  6,  8,  4,  7,  7,  6,  4,  4,  5,  4,  4,  8,  9,  6,  5,\n",
       "        6,  6,  5,  6,  5,  7,  4,  6,  8,  4,  7,  3,  3,  4,  5,  3,  7,\n",
       "        4,  7,  7,  3,  5,  5,  6,  6,  5,  4,  5,  6,  9,  7,  4,  3,  6,\n",
       "        5,  4,  6,  7,  2,  6,  5,  5,  4,  5,  2,  6, 10,  5,  2,  3,  2,\n",
       "        5,  6,  1,  6,  6,  4,  3,  2,  4,  5,  4,  7,  5,  5,  4,  6,  4,\n",
       "        8,  5,  4,  7,  4,  7,  6,  7,  7,  5,  3,  6,  6,  6,  6,  4,  4,\n",
       "        3,  4,  6,  4,  5,  3,  4,  4,  4,  5,  7,  4,  4,  2,  5,  5,  5,\n",
       "        2,  4,  5,  4,  8,  8,  6,  6,  6,  7,  3,  2,  5,  6,  5,  4,  6,\n",
       "        5,  7,  8,  4,  3,  6,  5,  5,  6,  7,  4,  3,  4,  1,  6,  4,  4,\n",
       "        5,  4,  5,  3,  3,  2,  3,  4,  8,  7,  3,  6, 10,  4,  5,  5,  7,\n",
       "        5,  2,  5,  5,  4,  7,  5,  6,  4,  4,  2,  5,  5,  4,  8,  6,  7,\n",
       "        7,  5,  5,  5,  4,  6,  5,  7,  3,  6,  8,  6,  7,  5,  5,  7,  4,\n",
       "        5,  5,  2,  3,  6,  5,  6,  5,  5,  5,  5,  0,  6,  4,  4,  6,  5,\n",
       "        3,  8,  8,  4,  4,  4,  5,  3,  4,  4,  5,  7,  3,  5,  2,  4,  4,\n",
       "        5,  3,  7,  3,  6,  5,  4,  6,  5,  5,  4,  5,  7,  6,  5,  6,  4,\n",
       "        4,  3,  6,  3,  3,  5,  6,  3,  2,  6,  4,  6,  7,  5,  6,  4,  7,\n",
       "        5,  5,  5,  3,  2,  3,  8,  3,  6,  6,  3,  6,  4,  6,  6,  7,  4,\n",
       "        5,  4,  4,  4,  6,  3,  3,  2,  6,  5,  5,  8,  4,  4,  3,  3,  5,\n",
       "        6,  5,  2,  6,  4,  5,  5,  6,  4,  4,  7,  8,  7,  4,  4,  6,  5,\n",
       "        5,  4,  4,  6,  5,  4,  3,  5,  4,  4,  1,  4,  2,  4,  2,  2,  3,\n",
       "        7,  6,  5,  5,  4,  7,  7,  7,  5,  3,  3,  4,  3,  7,  6,  6,  6,\n",
       "        7,  4,  6,  4,  9,  5,  1,  5,  6,  6,  4,  5,  3,  2,  4,  4,  5,\n",
       "        6,  7,  4,  6,  6,  4,  7,  3,  5,  6,  3,  5,  5,  4,  5,  7,  4,\n",
       "        6,  6,  6,  4,  6,  5,  3,  6,  7,  8,  4,  4,  5,  3,  5,  4,  6,\n",
       "        7,  6,  6,  0,  6,  4,  6,  5,  4,  4,  6,  6,  7,  2,  4,  7,  6,\n",
       "        8,  4,  7,  4,  6,  2,  4,  4,  4,  3,  3,  5,  4,  4,  2,  3,  5,\n",
       "        2,  7,  4,  5,  6,  8,  7,  8,  1,  6,  2,  4,  4,  5,  9,  6,  5,\n",
       "        4,  6,  5,  4,  6,  7,  7,  6,  6,  4,  5,  6,  6,  1,  4,  3,  4,\n",
       "        4,  3,  6,  4,  8,  3,  2,  4,  6,  9,  3,  3,  2,  2,  5,  5,  5,\n",
       "        5,  5,  2,  5,  4,  5,  6,  2,  4,  5,  6,  4,  7,  4,  5,  7,  5,\n",
       "        5,  3,  5,  5,  6,  4,  5,  5,  6,  5,  3,  5,  7,  3,  5,  5,  3,\n",
       "        4,  2,  4,  6,  5,  8,  3,  7,  6,  7,  4,  5,  4,  7,  4,  5,  6,\n",
       "        6,  6,  7,  6,  8,  5,  6,  5,  6,  6,  6,  7,  5,  6,  7,  7,  4,\n",
       "        6,  6,  7,  7,  5,  6,  4,  2,  4,  6,  5,  4,  6,  4,  4,  5,  5,\n",
       "        5,  7,  6,  7,  8,  5,  2,  4,  4,  4,  7,  5,  5,  6,  9,  3,  3,\n",
       "        4,  4,  5,  4,  4,  6,  2,  7,  4,  4,  4,  9,  3,  4,  6,  7,  7,\n",
       "        5,  4,  5,  8,  5,  5,  6,  5,  4,  3,  7,  4,  3,  4,  5,  6,  8,\n",
       "        4,  6,  5,  4,  2,  3,  6,  4,  3,  3,  3,  6,  6,  5,  4,  4,  6,\n",
       "        4,  3,  2,  7,  4,  7,  7,  6,  4,  3,  3,  5,  7,  8,  4,  4,  4,\n",
       "        4,  6,  5,  6,  1,  5,  4,  3,  5,  4,  3,  5,  4,  4,  3,  7,  5,\n",
       "        7,  6,  7,  3,  6,  6,  3,  5,  5,  4,  6,  4,  2,  6,  4,  4,  6,\n",
       "        6,  4,  7,  5,  6,  6,  4,  5,  8,  7,  5,  6,  6,  3,  4,  5,  3,\n",
       "        6,  4,  5,  5,  2,  5,  6,  4,  4,  5,  6,  2,  2,  5,  4,  1,  2,\n",
       "        4,  7,  7,  2,  2,  4,  4,  3,  5,  8,  5,  7,  6,  4,  5,  3,  3,\n",
       "        4,  4,  7,  4,  4,  7,  6,  5,  4,  6,  6,  6,  7,  7,  5,  7,  5,\n",
       "        4,  5,  6,  7,  4,  5,  5,  7,  5,  4,  5,  4,  4,  8,  7,  6,  4,\n",
       "        6,  5,  6,  6,  4,  6,  8,  7,  6,  6,  3,  4,  4,  7,  5,  5,  4,\n",
       "        3,  6,  7,  6,  9,  8,  4,  2,  1,  6,  5,  4,  2,  3])"
      ]
     },
     "execution_count": 48,
     "metadata": {},
     "output_type": "execute_result"
    }
   ],
   "source": [
    "n, p = 10, 0.5      # number of trials, probability of each trial\n",
    "# result of flipping a coin 10 times, tested 1000 times.\n",
    "np.random.binomial(n, p, 1000)"
   ]
  },
  {
   "cell_type": "markdown",
   "metadata": {},
   "source": [
    "### 3.3.\tpoisson(lam=1.0, size=None)"
   ]
  },
  {
   "cell_type": "markdown",
   "metadata": {},
   "source": [
    "A binomial distribution considers the number of successes out of n trials\n",
    "A Poisson Distribution considers the number of successes per unit of time*\n",
    "over the course of many units or any other continuous unit, e.g. distance"
   ]
  },
  {
   "cell_type": "code",
   "execution_count": 49,
   "metadata": {},
   "outputs": [],
   "source": [
    "# Poisson distribution draw samples from a Poisson distribution.\n",
    "# The Poisson distribution is the limit of the binomial distribution for large N.\n",
    "# import numpy as np\n",
    "s = np.random.poisson(5, 10000)"
   ]
  },
  {
   "cell_type": "code",
   "execution_count": 50,
   "metadata": {},
   "outputs": [
    {
     "data": {
      "image/png": "[encoded data removed]",
      "text/plain": [
       "<Figure size 432x288 with 1 Axes>"
      ]
     },
     "metadata": {
      "needs_background": "light"
     },
     "output_type": "display_data"
    }
   ],
   "source": [
    "# Display histogram of the sample:\n",
    "import matplotlib.pyplot as plt\n",
    "count, bins, ignored = plt.hist(s, 14, density=True)\n",
    "plt.show()"
   ]
  },
  {
   "cell_type": "markdown",
   "metadata": {},
   "source": [
    "### 3.4 normal(loc=0.0, scale=1.0, size=None)"
   ]
  },
  {
   "cell_type": "markdown",
   "metadata": {},
   "source": [
    "Draw random samples from a normal (Gaussian) distribution.\n",
    "The probability density function of the normal distribution, first derived by De Moivre and 200 years later by both Gauss and Laplace independently [2], is often called the bell curve because of its characteristic shape (see the example below).\n",
    "The normal distributions occurs often in nature. For example, it describes the commonly occurring distribution of samples influenced by a large number of tiny, random disturbances, each with its own unique distribution [5]"
   ]
  },
  {
   "cell_type": "code",
   "execution_count": 51,
   "metadata": {},
   "outputs": [
    {
     "data": {
      "image/png": "[encoded data removed]",
      "text/plain": [
       "<Figure size 432x288 with 1 Axes>"
      ]
     },
     "metadata": {
      "needs_background": "light"
     },
     "output_type": "display_data"
    }
   ],
   "source": [
    "# Example: Draw samples from the distribution:\n",
    "mu, sigma = 0, 0.1     # mean and standard deviation\n",
    "s = np.random.normal(mu, sigma, 1000)\n",
    "# Verify the mean and the variance:\n",
    "abs(mu - np.mean(s)) < 0.01\n",
    "abs(sigma - np.std(s, ddof=1)) < 0.01\n",
    "\n",
    "# Display the histogram of the samples, along with the probability density function:\n",
    "# import matplotlib.pyplot as plt\n",
    "count, bins, ignored = plt.hist(s, 30, density=True)\n",
    "plt.plot(bins, 1/(sigma * np.sqrt(2 * np.pi)) * np.exp( - (bins - mu)**2 / (2 * sigma**2) ), linewidth=2, color='r')\n",
    "plt.show()\n"
   ]
  },
  {
   "cell_type": "markdown",
   "metadata": {},
   "source": [
    "### 3.4 laplace([loc, scale, size])"
   ]
  },
  {
   "cell_type": "markdown",
   "metadata": {},
   "source": [
    "numpy.random.laplace(loc=0.0, scale=1.0, size=None)¶\n",
    "Draw samples from the Laplace or double exponential distribution with specified location (or mean) and scale (decay).\n",
    "The Laplace distribution is similar to the Gaussian/normal distribution, but is sharper at the peak and has fatter tails. It represents the difference between two independent, identically distributed exponential random variables\n",
    "The first law of Laplace, from 1774, states that the frequency of an error can be expressed as an exponential function of the absolute magnitude of the error, which leads to the Laplace distribution. For many problems in economics and health sciences, this distribution seems to model the data better than the standard Gaussian distribution"
   ]
  },
  {
   "cell_type": "code",
   "execution_count": 55,
   "metadata": {},
   "outputs": [
    {
     "data": {
      "text/plain": [
       "[<matplotlib.lines.Line2D at 0x2139156e5c0>]"
      ]
     },
     "execution_count": 55,
     "metadata": {},
     "output_type": "execute_result"
    },
    {
     "data": {
      "image/png": "[encoded data removed]",
      "text/plain": [
       "<Figure size 432x288 with 1 Axes>"
      ]
     },
     "metadata": {
      "needs_background": "light"
     },
     "output_type": "display_data"
    }
   ],
   "source": [
    "# Example: Draw samples from the distribution\n",
    "loc, scale = 0., 1.\n",
    "s = np.random.laplace(loc, scale, 1000)\n",
    "# Display the histogram of the samples, along with the probability density function:\n",
    "# import matplotlib.pyplot as plt\n",
    "count, bins, ignored = plt.hist(s, 30, density=True)\n",
    "x = np.arange(-8., 8., .01)\n",
    "pdf = np.exp(-abs(x-loc)/scale)/(2.*scale)\n",
    "plt.plot(x, pdf, linewidth=3, color='r')\n",
    "# Plot Gaussian for comparison:\n",
    "g = (1/(scale * np.sqrt(2 * np.pi)) * np.exp(-(x - loc)**2 / (2 * scale**2)))\n",
    "plt.plot(x,g, linewidth=3, color='y')\n"
   ]
  },
  {
   "cell_type": "markdown",
   "metadata": {},
   "source": [
    "# 4… The use of seeds in generating pseudorandom numbers "
   ]
  },
  {
   "cell_type": "markdown",
   "metadata": {},
   "source": [
    "Pseudo-random number generators work by performing some operation on a value. \n",
    "Generally this value is the previous number generated by the generator. However, the first time you use the generator, there is no previous value.\n",
    "Seeding a pseudo-random number generator gives it its first \"previous\" value. Each seed value will correspond to a sequence of generated values for a given random number generator. That is, if you provide the same seed twice, you get the same sequence of numbers twice. Generally, you want to seed your random number generator with some value that will change each execution of the program. For instance, the current time is a frequently-used seed. The reason why this doesn't happen automatically is so that if you want, you can provide a specific seed to get a known sequence of numbers, for example by using the decimal portion of the irrational number pi.[6]\n"
   ]
  },
  {
   "cell_type": "markdown",
   "metadata": {},
   "source": [
    "#### Seeding will enable me get the same result each time I run this dataframe"
   ]
  },
  {
   "cell_type": "code",
   "execution_count": 53,
   "metadata": {},
   "outputs": [
    {
     "name": "stdout",
     "output_type": "stream",
     "text": [
      "DataFrame from above\n",
      "          W         X         Y         Z\n",
      "A  2.706850  0.628133  0.907969  0.503826\n",
      "B  0.651118 -0.319318 -0.848077  0.605965\n",
      "C -2.018168  0.740122  0.528813 -0.589001\n",
      "D  0.188695 -0.758872 -0.933237  0.955057\n",
      "E  0.190794  1.978757  2.605967  0.683509\n",
      "\n",
      "Get a column 'X' from above dataframe. This is actually a Series\n",
      "A    0.628133\n",
      "B   -0.319318\n",
      "C    0.740122\n",
      "D   -0.758872\n",
      "E    1.978757\n",
      "Name: X, dtype: float64\n"
     ]
    }
   ],
   "source": [
    "import pandas as pd\n",
    "#import numpy as np \n",
    "from numpy.random import randn\n",
    "np.random.seed(101)  #Seeding will enable me get the same result each time I run this dataframe\n",
    "df = pd.DataFrame(randn(5,4), index='A B C D E'.split(), columns='W X Y Z'.split())\n",
    "print(\"DataFrame from above\")\n",
    "print(df)\n",
    "print(\"\\nGet a column 'X' from above dataframe. This is actually a Series\")\n",
    "print (df['X'])\n"
   ]
  },
  {
   "cell_type": "markdown",
   "metadata": {},
   "source": [
    "### References:\n",
    "- [1][https://stackoverflow.com/questions/993984/what-are-the-advantages-of-numpy-over-regular-python-lists]\n",
    "- [2][https://cn.bing.com/searchq=what+is+python+numpy.random+package&form=EDGEAR&qs=PF&cvid=886e21aff31446b69a150e0ea3e75902& cc=CN&setlang=en-US&PC=LCTS]\n",
    "- [3] [https://docs.scipy.org/doc/numpy/user/whatisnumpy.html]\n",
    "- [4] [Python for Data Analysis (William McKinney), 2nd Edition. Pages 85 – 110]\n",
    "- [5] [ P. R. Peebles Jr., “Central Limit Theorem” in “Probability, Random Variables and Random Signal Principles”, 4th ed., 2001, pp. 51, 51, 125.]\n",
    "- [6] [https://stackoverflow.com/questions/22639587/random-seed-what-does-it-do]\n",
    "\n"
   ]
  },
  {
   "cell_type": "code",
   "execution_count": null,
   "metadata": {},
   "outputs": [],
   "source": []
  }
 ],
 "metadata": {
  "kernelspec": {
   "display_name": "Python 3",
   "language": "python",
   "name": "python3"
  },
  "language_info": {
   "codemirror_mode": {
    "name": "ipython",
    "version": 3
   },
   "file_extension": ".py",
   "mimetype": "text/x-python",
   "name": "python",
   "nbconvert_exporter": "python",
   "pygments_lexer": "ipython3",
   "version": "3.7.0"
  }
 },
 "nbformat": 4,
 "nbformat_minor": 2
}
